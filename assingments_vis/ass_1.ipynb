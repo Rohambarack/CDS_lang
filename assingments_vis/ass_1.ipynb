{
 "cells": [
  {
   "cell_type": "code",
   "execution_count": 4,
   "metadata": {},
   "outputs": [
    {
     "name": "stdout",
     "output_type": "stream",
     "text": [
      "Hit:1 http://security.ubuntu.com/ubuntu jammy-security InRelease\n",
      "Hit:2 http://archive.ubuntu.com/ubuntu jammy InRelease\n",
      "Hit:3 http://archive.ubuntu.com/ubuntu jammy-updates InRelease\n",
      "Hit:4 http://archive.ubuntu.com/ubuntu jammy-backports InRelease\n",
      "Reading package lists...\n",
      "Reading package lists...\n",
      "Building dependency tree...\n",
      "Reading state information...\n",
      "python3-opencv is already the newest version (4.5.4+dfsg-9ubuntu4).\n",
      "0 upgraded, 0 newly installed, 0 to remove and 43 not upgraded.\n",
      "Defaulting to user installation because normal site-packages is not writeable\n",
      "Requirement already satisfied: opencv-python in /home/ucloud/.local/lib/python3.10/site-packages (4.9.0.80)\n",
      "Requirement already satisfied: numpy>=1.21.2 in /usr/lib/python3/dist-packages (from opencv-python) (1.21.5)\n"
     ]
    },
    {
     "name": "stderr",
     "output_type": "stream",
     "text": [
      "\n",
      "\u001b[1m[\u001b[0m\u001b[34;49mnotice\u001b[0m\u001b[1;39;49m]\u001b[0m\u001b[39;49m A new release of pip is available: \u001b[0m\u001b[31;49m23.3.2\u001b[0m\u001b[39;49m -> \u001b[0m\u001b[32;49m24.0\u001b[0m\n",
      "\u001b[1m[\u001b[0m\u001b[34;49mnotice\u001b[0m\u001b[1;39;49m]\u001b[0m\u001b[39;49m To update, run: \u001b[0m\u001b[32;49mpip install --upgrade pip\u001b[0m\n"
     ]
    },
    {
     "name": "stdout",
     "output_type": "stream",
     "text": [
      "Defaulting to user installation because normal site-packages is not writeable\n",
      "Requirement already satisfied: matplotlib in /home/ucloud/.local/lib/python3.10/site-packages (3.8.3)\n",
      "Requirement already satisfied: contourpy>=1.0.1 in /home/ucloud/.local/lib/python3.10/site-packages (from matplotlib) (1.2.0)\n",
      "Requirement already satisfied: cycler>=0.10 in /home/ucloud/.local/lib/python3.10/site-packages (from matplotlib) (0.12.1)\n",
      "Requirement already satisfied: fonttools>=4.22.0 in /home/ucloud/.local/lib/python3.10/site-packages (from matplotlib) (4.49.0)\n",
      "Requirement already satisfied: kiwisolver>=1.3.1 in /home/ucloud/.local/lib/python3.10/site-packages (from matplotlib) (1.4.5)\n",
      "Requirement already satisfied: numpy<2,>=1.21 in /usr/lib/python3/dist-packages (from matplotlib) (1.21.5)\n",
      "Requirement already satisfied: packaging>=20.0 in /home/ucloud/.local/lib/python3.10/site-packages (from matplotlib) (23.2)\n",
      "Requirement already satisfied: pillow>=8 in /home/ucloud/.local/lib/python3.10/site-packages (from matplotlib) (10.2.0)\n",
      "Requirement already satisfied: pyparsing>=2.3.1 in /usr/lib/python3/dist-packages (from matplotlib) (2.4.7)\n",
      "Requirement already satisfied: python-dateutil>=2.7 in /home/ucloud/.local/lib/python3.10/site-packages (from matplotlib) (2.8.2)\n",
      "Requirement already satisfied: six>=1.5 in /usr/lib/python3/dist-packages (from python-dateutil>=2.7->matplotlib) (1.16.0)\n"
     ]
    },
    {
     "name": "stderr",
     "output_type": "stream",
     "text": [
      "\n",
      "\u001b[1m[\u001b[0m\u001b[34;49mnotice\u001b[0m\u001b[1;39;49m]\u001b[0m\u001b[39;49m A new release of pip is available: \u001b[0m\u001b[31;49m23.3.2\u001b[0m\u001b[39;49m -> \u001b[0m\u001b[32;49m24.0\u001b[0m\n",
      "\u001b[1m[\u001b[0m\u001b[34;49mnotice\u001b[0m\u001b[1;39;49m]\u001b[0m\u001b[39;49m To update, run: \u001b[0m\u001b[32;49mpip install --upgrade pip\u001b[0m\n"
     ]
    }
   ],
   "source": [
    "import os\n",
    "os.system(\"sudo apt-get update\")\n",
    "os.system(\"sudo apt-get install -y python3-opencv\")\n",
    "os.system(\"pip install opencv-python\")\n",
    "os.system(\"pip install matplotlib\")\n",
    "import sys\n",
    "sys.path.append(\"..\")\n",
    "import cv2\n",
    "import numpy as np\n",
    "from utils.imutils import jimshow as show\n",
    "from utils.imutils import jimshow_channel as show_channel\n",
    "import matplotlib.pyplot as plt"
   ]
  },
  {
   "cell_type": "code",
   "execution_count": 5,
   "metadata": {},
   "outputs": [],
   "source": [
    "#function for reading in a file and normailzing it\n",
    "def normit(image):\n",
    "    hist = cv2.calcHist([image],[0,1,2],None,[255,255,255],[0,256,0,256,0,256])\n",
    "    normalized_hist = cv2.normalize(hist, hist, 0, 1.0, cv2.NORM_MINMAX)\n",
    "    return(normalized_hist)\n",
    "\n",
    "# loop load all flowers and names and save it\n",
    "fp = \"/work/cds-vis-data/flowers/\"\n",
    "fp_s = os.listdir(fp)\n",
    "\n",
    "\n",
    "image_list = []\n",
    "name_list = []\n",
    "for i in fp_s:\n",
    "    filepath = fp + i\n",
    "    image = cv2.imread(filepath)\n",
    "    names = i\n",
    "    name_list.append(i)\n",
    "    image_list.append(image)\n",
    "\n",
    "\n",
    "\n"
   ]
  },
  {
   "cell_type": "code",
   "execution_count": 8,
   "metadata": {},
   "outputs": [],
   "source": [
    "def chunker(seq, size):\n",
    "    return (seq[pos:pos + size] for pos in range(0, len(seq), size))"
   ]
  },
  {
   "cell_type": "code",
   "execution_count": 9,
   "metadata": {},
   "outputs": [
    {
     "ename": "error",
     "evalue": "OpenCV(4.9.0) :-1: error: (-5:Bad argument) in function 'calcHist'\n> Overload resolution failed:\n>  - Can't parse 'images'. Sequence item with index 0 has a wrong type\n>  - Can't parse 'images'. Sequence item with index 0 has a wrong type\n",
     "output_type": "error",
     "traceback": [
      "\u001b[0;31m---------------------------------------------------------------------------\u001b[0m",
      "\u001b[0;31merror\u001b[0m                                     Traceback (most recent call last)",
      "\u001b[1;32m/work/lang_anal/CDS_lang/assingments_vis/ass_1.ipynb Cell 4\u001b[0m line \u001b[0;36m4\n\u001b[1;32m      <a href='vscode-notebook-cell://app-5017906-0.cloud.sdu.dk/work/lang_anal/CDS_lang/assingments_vis/ass_1.ipynb#W3sdnNjb2RlLXJlbW90ZQ%3D%3D?line=1'>2</a>\u001b[0m norm_list \u001b[39m=\u001b[39m[]\n\u001b[1;32m      <a href='vscode-notebook-cell://app-5017906-0.cloud.sdu.dk/work/lang_anal/CDS_lang/assingments_vis/ass_1.ipynb#W3sdnNjb2RlLXJlbW90ZQ%3D%3D?line=2'>3</a>\u001b[0m \u001b[39mfor\u001b[39;00m i \u001b[39min\u001b[39;00m chunker(image_list,\u001b[39m100\u001b[39m):\n\u001b[0;32m----> <a href='vscode-notebook-cell://app-5017906-0.cloud.sdu.dk/work/lang_anal/CDS_lang/assingments_vis/ass_1.ipynb#W3sdnNjb2RlLXJlbW90ZQ%3D%3D?line=3'>4</a>\u001b[0m     norm_one \u001b[39m=\u001b[39m normit(i)\n\u001b[1;32m      <a href='vscode-notebook-cell://app-5017906-0.cloud.sdu.dk/work/lang_anal/CDS_lang/assingments_vis/ass_1.ipynb#W3sdnNjb2RlLXJlbW90ZQ%3D%3D?line=4'>5</a>\u001b[0m     norm_list\u001b[39m.\u001b[39mappend(norm_one)\n",
      "\u001b[1;32m/work/lang_anal/CDS_lang/assingments_vis/ass_1.ipynb Cell 4\u001b[0m line \u001b[0;36m3\n\u001b[1;32m      <a href='vscode-notebook-cell://app-5017906-0.cloud.sdu.dk/work/lang_anal/CDS_lang/assingments_vis/ass_1.ipynb#W3sdnNjb2RlLXJlbW90ZQ%3D%3D?line=1'>2</a>\u001b[0m \u001b[39mdef\u001b[39;00m \u001b[39mnormit\u001b[39m(image):\n\u001b[0;32m----> <a href='vscode-notebook-cell://app-5017906-0.cloud.sdu.dk/work/lang_anal/CDS_lang/assingments_vis/ass_1.ipynb#W3sdnNjb2RlLXJlbW90ZQ%3D%3D?line=2'>3</a>\u001b[0m     hist \u001b[39m=\u001b[39m cv2\u001b[39m.\u001b[39;49mcalcHist([image],[\u001b[39m0\u001b[39;49m,\u001b[39m1\u001b[39;49m,\u001b[39m2\u001b[39;49m],\u001b[39mNone\u001b[39;49;00m,[\u001b[39m255\u001b[39;49m,\u001b[39m255\u001b[39;49m,\u001b[39m255\u001b[39;49m],[\u001b[39m0\u001b[39;49m,\u001b[39m256\u001b[39;49m,\u001b[39m0\u001b[39;49m,\u001b[39m256\u001b[39;49m,\u001b[39m0\u001b[39;49m,\u001b[39m256\u001b[39;49m])\n\u001b[1;32m      <a href='vscode-notebook-cell://app-5017906-0.cloud.sdu.dk/work/lang_anal/CDS_lang/assingments_vis/ass_1.ipynb#W3sdnNjb2RlLXJlbW90ZQ%3D%3D?line=3'>4</a>\u001b[0m     normalized_hist \u001b[39m=\u001b[39m cv2\u001b[39m.\u001b[39mnormalize(hist, hist, \u001b[39m0\u001b[39m, \u001b[39m1.0\u001b[39m, cv2\u001b[39m.\u001b[39mNORM_MINMAX)\n\u001b[1;32m      <a href='vscode-notebook-cell://app-5017906-0.cloud.sdu.dk/work/lang_anal/CDS_lang/assingments_vis/ass_1.ipynb#W3sdnNjb2RlLXJlbW90ZQ%3D%3D?line=4'>5</a>\u001b[0m     \u001b[39mreturn\u001b[39;00m(normalized_hist)\n",
      "\u001b[0;31merror\u001b[0m: OpenCV(4.9.0) :-1: error: (-5:Bad argument) in function 'calcHist'\n> Overload resolution failed:\n>  - Can't parse 'images'. Sequence item with index 0 has a wrong type\n>  - Can't parse 'images'. Sequence item with index 0 has a wrong type\n"
     ]
    }
   ],
   "source": [
    "#loop and normalize flowers 100 at a time\n",
    "norm_list =[]\n",
    "for i in chunker(image_list,100):\n",
    "    norm_one = normit(i)\n",
    "    norm_list.append(norm_one)"
   ]
  },
  {
   "cell_type": "code",
   "execution_count": 13,
   "metadata": {},
   "outputs": [],
   "source": [
    "test_list = []\n",
    "\n",
    "for i in chunker(image_list[:5],1):\n",
    "    test_list.append(i)"
   ]
  },
  {
   "cell_type": "code",
   "execution_count": 22,
   "metadata": {},
   "outputs": [
    {
     "ename": "error",
     "evalue": "OpenCV(4.9.0) /io/opencv/modules/imgproc/src/histogram.cpp:160: error: (-215:Assertion failed) j < nimages in function 'histPrepareImages'\n",
     "output_type": "error",
     "traceback": [
      "\u001b[0;31m---------------------------------------------------------------------------\u001b[0m",
      "\u001b[0;31merror\u001b[0m                                     Traceback (most recent call last)",
      "\u001b[1;32m/work/lang_anal/CDS_lang/assingments_vis/ass_1.ipynb Cell 6\u001b[0m line \u001b[0;36m5\n\u001b[1;32m      <a href='vscode-notebook-cell://app-5017906-0.cloud.sdu.dk/work/lang_anal/CDS_lang/assingments_vis/ass_1.ipynb#W5sdnNjb2RlLXJlbW90ZQ%3D%3D?line=1'>2</a>\u001b[0m \u001b[39mfor\u001b[39;00m i \u001b[39min\u001b[39;00m \u001b[39mrange\u001b[39m(\u001b[39m0\u001b[39m,\u001b[39mlen\u001b[39m(image_list)):\n\u001b[1;32m      <a href='vscode-notebook-cell://app-5017906-0.cloud.sdu.dk/work/lang_anal/CDS_lang/assingments_vis/ass_1.ipynb#W5sdnNjb2RlLXJlbW90ZQ%3D%3D?line=3'>4</a>\u001b[0m     \u001b[39mfor\u001b[39;00m j \u001b[39min\u001b[39;00m image_list[i]:\n\u001b[0;32m----> <a href='vscode-notebook-cell://app-5017906-0.cloud.sdu.dk/work/lang_anal/CDS_lang/assingments_vis/ass_1.ipynb#W5sdnNjb2RlLXJlbW90ZQ%3D%3D?line=4'>5</a>\u001b[0m         test \u001b[39m=\u001b[39m normit(j)\n\u001b[1;32m      <a href='vscode-notebook-cell://app-5017906-0.cloud.sdu.dk/work/lang_anal/CDS_lang/assingments_vis/ass_1.ipynb#W5sdnNjb2RlLXJlbW90ZQ%3D%3D?line=6'>7</a>\u001b[0m     test_list\u001b[39m.\u001b[39mappend(test)\n",
      "\u001b[1;32m/work/lang_anal/CDS_lang/assingments_vis/ass_1.ipynb Cell 6\u001b[0m line \u001b[0;36m3\n\u001b[1;32m      <a href='vscode-notebook-cell://app-5017906-0.cloud.sdu.dk/work/lang_anal/CDS_lang/assingments_vis/ass_1.ipynb#W5sdnNjb2RlLXJlbW90ZQ%3D%3D?line=1'>2</a>\u001b[0m \u001b[39mdef\u001b[39;00m \u001b[39mnormit\u001b[39m(image):\n\u001b[0;32m----> <a href='vscode-notebook-cell://app-5017906-0.cloud.sdu.dk/work/lang_anal/CDS_lang/assingments_vis/ass_1.ipynb#W5sdnNjb2RlLXJlbW90ZQ%3D%3D?line=2'>3</a>\u001b[0m     hist \u001b[39m=\u001b[39m cv2\u001b[39m.\u001b[39;49mcalcHist([image],[\u001b[39m0\u001b[39;49m,\u001b[39m1\u001b[39;49m,\u001b[39m2\u001b[39;49m],\u001b[39mNone\u001b[39;49;00m,[\u001b[39m255\u001b[39;49m,\u001b[39m255\u001b[39;49m,\u001b[39m255\u001b[39;49m],[\u001b[39m0\u001b[39;49m,\u001b[39m256\u001b[39;49m,\u001b[39m0\u001b[39;49m,\u001b[39m256\u001b[39;49m,\u001b[39m0\u001b[39;49m,\u001b[39m256\u001b[39;49m])\n\u001b[1;32m      <a href='vscode-notebook-cell://app-5017906-0.cloud.sdu.dk/work/lang_anal/CDS_lang/assingments_vis/ass_1.ipynb#W5sdnNjb2RlLXJlbW90ZQ%3D%3D?line=3'>4</a>\u001b[0m     normalized_hist \u001b[39m=\u001b[39m cv2\u001b[39m.\u001b[39mnormalize(hist, hist, \u001b[39m0\u001b[39m, \u001b[39m1.0\u001b[39m, cv2\u001b[39m.\u001b[39mNORM_MINMAX)\n\u001b[1;32m      <a href='vscode-notebook-cell://app-5017906-0.cloud.sdu.dk/work/lang_anal/CDS_lang/assingments_vis/ass_1.ipynb#W5sdnNjb2RlLXJlbW90ZQ%3D%3D?line=4'>5</a>\u001b[0m     \u001b[39mreturn\u001b[39;00m(normalized_hist)\n",
      "\u001b[0;31merror\u001b[0m: OpenCV(4.9.0) /io/opencv/modules/imgproc/src/histogram.cpp:160: error: (-215:Assertion failed) j < nimages in function 'histPrepareImages'\n"
     ]
    }
   ],
   "source": [
    "test_list = []\n",
    "for i in range(0,len(image_list)):\n",
    "\n",
    "    for j in image_list[i]:\n",
    "        test = normit(j)\n",
    "    \n",
    "    test_list.append(test)\n",
    "        "
   ]
  },
  {
   "cell_type": "code",
   "execution_count": null,
   "metadata": {},
   "outputs": [],
   "source": [
    "for i in range(0,len(image_list)):\n",
    "\n",
    "    for j in image_list[i]:\n",
    "        print(j)\n",
    "    "
   ]
  },
  {
   "cell_type": "code",
   "execution_count": null,
   "metadata": {},
   "outputs": [],
   "source": []
  }
 ],
 "metadata": {
  "kernelspec": {
   "display_name": "Python 3",
   "language": "python",
   "name": "python3"
  },
  "language_info": {
   "codemirror_mode": {
    "name": "ipython",
    "version": 3
   },
   "file_extension": ".py",
   "mimetype": "text/x-python",
   "name": "python",
   "nbconvert_exporter": "python",
   "pygments_lexer": "ipython3",
   "version": "3.10.12"
  }
 },
 "nbformat": 4,
 "nbformat_minor": 2
}
