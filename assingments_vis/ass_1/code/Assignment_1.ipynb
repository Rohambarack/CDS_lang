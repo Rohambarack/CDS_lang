{
 "cells": [
  {
   "cell_type": "code",
   "execution_count": 1,
   "metadata": {},
   "outputs": [
    {
     "name": "stdout",
     "output_type": "stream",
     "text": [
      "Hit:1 http://security.ubuntu.com/ubuntu jammy-security InRelease\n",
      "Hit:2 http://archive.ubuntu.com/ubuntu jammy InRelease\n",
      "Hit:3 http://archive.ubuntu.com/ubuntu jammy-updates InRelease\n",
      "Hit:4 http://archive.ubuntu.com/ubuntu jammy-backports InRelease\n",
      "Reading package lists...\n",
      "Reading package lists...\n",
      "Building dependency tree...\n",
      "Reading state information...\n",
      "python3-opencv is already the newest version (4.5.4+dfsg-9ubuntu4).\n",
      "0 upgraded, 0 newly installed, 0 to remove and 45 not upgraded.\n",
      "Defaulting to user installation because normal site-packages is not writeable\n",
      "Requirement already satisfied: opencv-python in /home/ucloud/.local/lib/python3.10/site-packages (4.9.0.80)\n",
      "Requirement already satisfied: numpy>=1.21.2 in /home/ucloud/.local/lib/python3.10/site-packages (from opencv-python) (1.26.4)\n",
      "Defaulting to user installation because normal site-packages is not writeable\n",
      "Requirement already satisfied: matplotlib in /home/ucloud/.local/lib/python3.10/site-packages (3.8.3)\n",
      "Requirement already satisfied: contourpy>=1.0.1 in /home/ucloud/.local/lib/python3.10/site-packages (from matplotlib) (1.2.0)\n",
      "Requirement already satisfied: cycler>=0.10 in /home/ucloud/.local/lib/python3.10/site-packages (from matplotlib) (0.12.1)\n",
      "Requirement already satisfied: fonttools>=4.22.0 in /home/ucloud/.local/lib/python3.10/site-packages (from matplotlib) (4.49.0)\n",
      "Requirement already satisfied: kiwisolver>=1.3.1 in /home/ucloud/.local/lib/python3.10/site-packages (from matplotlib) (1.4.5)\n",
      "Requirement already satisfied: numpy<2,>=1.21 in /home/ucloud/.local/lib/python3.10/site-packages (from matplotlib) (1.26.4)\n",
      "Requirement already satisfied: packaging>=20.0 in /home/ucloud/.local/lib/python3.10/site-packages (from matplotlib) (23.2)\n",
      "Requirement already satisfied: pillow>=8 in /home/ucloud/.local/lib/python3.10/site-packages (from matplotlib) (10.2.0)\n",
      "Requirement already satisfied: pyparsing>=2.3.1 in /usr/lib/python3/dist-packages (from matplotlib) (2.4.7)\n",
      "Requirement already satisfied: python-dateutil>=2.7 in /home/ucloud/.local/lib/python3.10/site-packages (from matplotlib) (2.8.2)\n",
      "Requirement already satisfied: six>=1.5 in /usr/lib/python3/dist-packages (from python-dateutil>=2.7->matplotlib) (1.16.0)\n",
      "Defaulting to user installation because normal site-packages is not writeable\n",
      "Requirement already satisfied: pandas in /home/ucloud/.local/lib/python3.10/site-packages (2.2.0)\n",
      "Requirement already satisfied: numpy<2,>=1.22.4 in /home/ucloud/.local/lib/python3.10/site-packages (from pandas) (1.26.4)\n",
      "Requirement already satisfied: python-dateutil>=2.8.2 in /home/ucloud/.local/lib/python3.10/site-packages (from pandas) (2.8.2)\n",
      "Requirement already satisfied: pytz>=2020.1 in /home/ucloud/.local/lib/python3.10/site-packages (from pandas) (2024.1)\n",
      "Requirement already satisfied: tzdata>=2022.7 in /home/ucloud/.local/lib/python3.10/site-packages (from pandas) (2024.1)\n",
      "Requirement already satisfied: six>=1.5 in /usr/lib/python3/dist-packages (from python-dateutil>=2.8.2->pandas) (1.16.0)\n"
     ]
    },
    {
     "name": "stderr",
     "output_type": "stream",
     "text": [
      "/tmp/ipykernel_43529/1653740564.py:11: DeprecationWarning: \n",
      "Pyarrow will become a required dependency of pandas in the next major release of pandas (pandas 3.0),\n",
      "(to allow more performant data types, such as the Arrow string type, and better interoperability with other libraries)\n",
      "but was not found to be installed on your system.\n",
      "If this would cause problems for you,\n",
      "please provide us feedback at https://github.com/pandas-dev/pandas/issues/54466\n",
      "        \n",
      "  import pandas as pd\n"
     ]
    }
   ],
   "source": [
    "#setup, importing modules\n",
    "import os\n",
    "os.system(\"sudo apt-get update\")\n",
    "os.system(\"sudo apt-get install -y python3-opencv\")\n",
    "os.system(\"pip install opencv-python\")\n",
    "os.system(\"pip install matplotlib\")\n",
    "os.system(\"pip install pandas\")\n",
    "import cv2\n",
    "import numpy as np\n",
    "import matplotlib.pyplot as plt\n",
    "import pandas as pd"
   ]
  },
  {
   "cell_type": "code",
   "execution_count": 3,
   "metadata": {},
   "outputs": [],
   "source": [
    "#functions\n",
    "def normit(image):\n",
    "\n",
    "    \"\"\" function for reading in an image file, taking it's color histograms and normailizing them. \"\"\"\n",
    "    hist = cv2.calcHist([image],[0,1,2],None,[255,255,255],[0,256,0,256,0,256])\n",
    "    normalized_hist = cv2.normalize(hist, hist, 0, 1.0, cv2.NORM_MINMAX)\n",
    "    return(normalized_hist)\n",
    "\n",
    "def count_hist_dist(filename,name_list,image_list,n_returns):\n",
    "\n",
    "    \"\"\"function for finding Distance from a set image file's color histograms.\n",
    "    filename: the name of the file, which will be the target\n",
    "    name_list: a list of all filenames the comparison should include\n",
    "    image_list: a list of images. the images are loaded in, with three colour channels and two spacial\n",
    "    dimensions. The list of images should have the same length and order as the list of names.\n",
    "    n_returns: (int) how many filenames and distances should be returned.\"\"\"\n",
    "\n",
    "    #find target according file index\n",
    "    target_ind = name_list.index(filename) \n",
    "    #create target comparison hist\n",
    "    target = normit(image_list[target_ind])\n",
    "\n",
    "    #compare to target\n",
    "    comp_list =[]\n",
    "    for i in image_list:\n",
    "        norm =  normit(i)\n",
    "        histcomp = round(cv2.compareHist(target,norm,cv2.HISTCMP_CHISQR), 2)\n",
    "        #save comparison values\n",
    "        comp_list.append(histcomp)\n",
    "\n",
    "    #assign filenames to comparison values\n",
    "\n",
    "    df_pd = pd.DataFrame({\"Filename\":name_list})\n",
    "    df_pd[\"Distance\"] = comp_list\n",
    "\n",
    "    #sort and filter\n",
    "    #sort ascending\n",
    "    df_sorted = df_pd.sort_values(axis=0, by= \"Distance\", ascending= True)\n",
    "    #drops 1st entry (it's the target image themselves)\n",
    "    df_sorted = df_pd.drop(axis=0, index=0)\n",
    "    #keeps 5 closest images\n",
    "    df_fin = df_sorted[:n_returns]\n",
    "\n",
    "    return(df_fin)\n"
   ]
  },
  {
   "cell_type": "code",
   "execution_count": 5,
   "metadata": {},
   "outputs": [],
   "source": [
    "#load in files\n",
    "# loop load all flowers and names and save it\n",
    "fp = os.path.join(\"..\",\"in\")\n",
    "fp_s = sorted(os.listdir(fp))\n",
    "\n",
    "\n",
    "image_list = []\n",
    "name_list = []\n",
    "for i in fp_s:\n",
    "    filepath = os.path.join(fp,i)\n",
    "    image = cv2.imread(filepath)\n",
    "    names = i\n",
    "    name_list.append(i)\n",
    "    image_list.append(image)"
   ]
  },
  {
   "cell_type": "code",
   "execution_count": 9,
   "metadata": {},
   "outputs": [],
   "source": [
    "#Find distances for e.g. target file \"image_0121.jpg\"\n",
    "\n",
    "target_name = \"image_0121.jpg\"\n",
    "count_df = count_hist_dist(target_name,name_list,image_list,5)"
   ]
  },
  {
   "cell_type": "code",
   "execution_count": 10,
   "metadata": {},
   "outputs": [
    {
     "data": {
      "text/html": [
       "<div>\n",
       "<style scoped>\n",
       "    .dataframe tbody tr th:only-of-type {\n",
       "        vertical-align: middle;\n",
       "    }\n",
       "\n",
       "    .dataframe tbody tr th {\n",
       "        vertical-align: top;\n",
       "    }\n",
       "\n",
       "    .dataframe thead th {\n",
       "        text-align: right;\n",
       "    }\n",
       "</style>\n",
       "<table border=\"1\" class=\"dataframe\">\n",
       "  <thead>\n",
       "    <tr style=\"text-align: right;\">\n",
       "      <th></th>\n",
       "      <th>Filename</th>\n",
       "      <th>Distance</th>\n",
       "    </tr>\n",
       "  </thead>\n",
       "  <tbody>\n",
       "    <tr>\n",
       "      <th>1</th>\n",
       "      <td>image_0002.jpg</td>\n",
       "      <td>23868.38</td>\n",
       "    </tr>\n",
       "    <tr>\n",
       "      <th>2</th>\n",
       "      <td>image_0003.jpg</td>\n",
       "      <td>86165.81</td>\n",
       "    </tr>\n",
       "    <tr>\n",
       "      <th>3</th>\n",
       "      <td>image_0004.jpg</td>\n",
       "      <td>5933.99</td>\n",
       "    </tr>\n",
       "    <tr>\n",
       "      <th>4</th>\n",
       "      <td>image_0005.jpg</td>\n",
       "      <td>16967.65</td>\n",
       "    </tr>\n",
       "    <tr>\n",
       "      <th>5</th>\n",
       "      <td>image_0006.jpg</td>\n",
       "      <td>11754.82</td>\n",
       "    </tr>\n",
       "  </tbody>\n",
       "</table>\n",
       "</div>"
      ],
      "text/plain": [
       "         Filename  Distance\n",
       "1  image_0002.jpg  23868.38\n",
       "2  image_0003.jpg  86165.81\n",
       "3  image_0004.jpg   5933.99\n",
       "4  image_0005.jpg  16967.65\n",
       "5  image_0006.jpg  11754.82"
      ]
     },
     "execution_count": 10,
     "metadata": {},
     "output_type": "execute_result"
    }
   ],
   "source": [
    "#save output\n",
    "out_p = os.path.join(\"..\",\"out\")\n",
    "count_df"
   ]
  }
 ],
 "metadata": {
  "kernelspec": {
   "display_name": "Python 3",
   "language": "python",
   "name": "python3"
  },
  "language_info": {
   "codemirror_mode": {
    "name": "ipython",
    "version": 3
   },
   "file_extension": ".py",
   "mimetype": "text/x-python",
   "name": "python",
   "nbconvert_exporter": "python",
   "pygments_lexer": "ipython3",
   "version": "3.10.12"
  }
 },
 "nbformat": 4,
 "nbformat_minor": 2
}
