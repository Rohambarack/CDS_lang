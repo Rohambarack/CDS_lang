{
 "cells": [
  {
   "cell_type": "code",
   "execution_count": null,
   "metadata": {},
   "outputs": [],
   "source": [
    "#import packages\n",
    "#os to fast track terminal use\n",
    "import os\n",
    "os.system(\"pip install pandas spacy\")\n",
    "#spacy for nlp\n",
    "import spacy\n",
    "os.system(\"spacy install en_core_web_md\")\n",
    "nlp = spacy.load('en_core_web_md')\n",
    "#pandas for dataframes\n",
    "import pandas as pd"
   ]
  },
  {
   "cell_type": "code",
   "execution_count": 1,
   "metadata": {},
   "outputs": [],
   "source": [
    "#get file\n",
    "#filepath set for sparately added Ucloud data directory\n",
    "fp = \"/work/cds-lang-data/USEcorpus/USEcorpus/\"\n",
    "#os independent filepath\n",
    "\n",
    "#filepath for hand-in?\n"
   ]
  },
  {
   "cell_type": "code",
   "execution_count": 7,
   "metadata": {},
   "outputs": [
    {
     "ename": "NameError",
     "evalue": "name 'nlp' is not defined",
     "output_type": "error",
     "traceback": [
      "\u001b[0;31m---------------------------------------------------------------------------\u001b[0m",
      "\u001b[0;31mNameError\u001b[0m                                 Traceback (most recent call last)",
      "\u001b[1;32m/work/lang_anal/CDS_lang/assignments_lan/ass_1.ipynb Cell 3\u001b[0m line \u001b[0;36m9\n\u001b[1;32m      <a href='vscode-notebook-cell://app-5017531-0.cloud.sdu.dk/work/lang_anal/CDS_lang/assignments_lan/ass_1.ipynb#W2sdnNjb2RlLXJlbW90ZQ%3D%3D?line=4'>5</a>\u001b[0m     text \u001b[39m=\u001b[39m f\u001b[39m.\u001b[39mread()\n\u001b[1;32m      <a href='vscode-notebook-cell://app-5017531-0.cloud.sdu.dk/work/lang_anal/CDS_lang/assignments_lan/ass_1.ipynb#W2sdnNjb2RlLXJlbW90ZQ%3D%3D?line=6'>7</a>\u001b[0m \u001b[39m#convert it with spacy\u001b[39;00m\n\u001b[0;32m----> <a href='vscode-notebook-cell://app-5017531-0.cloud.sdu.dk/work/lang_anal/CDS_lang/assignments_lan/ass_1.ipynb#W2sdnNjb2RlLXJlbW90ZQ%3D%3D?line=8'>9</a>\u001b[0m text_nlp \u001b[39m=\u001b[39m nlp(text)\n\u001b[1;32m     <a href='vscode-notebook-cell://app-5017531-0.cloud.sdu.dk/work/lang_anal/CDS_lang/assignments_lan/ass_1.ipynb#W2sdnNjb2RlLXJlbW90ZQ%3D%3D?line=10'>11</a>\u001b[0m \u001b[39m# extract values, I have to use \"i\" to  index items, long words confuse me\u001b[39;00m\n\u001b[1;32m     <a href='vscode-notebook-cell://app-5017531-0.cloud.sdu.dk/work/lang_anal/CDS_lang/assignments_lan/ass_1.ipynb#W2sdnNjb2RlLXJlbW90ZQ%3D%3D?line=12'>13</a>\u001b[0m \u001b[39mfor\u001b[39;00m i \u001b[39min\u001b[39;00m text_nlp:\n",
      "\u001b[0;31mNameError\u001b[0m: name 'nlp' is not defined"
     ]
    }
   ],
   "source": [
    "#1 text, 1 file\n",
    "\n",
    "#load it with encoding \n",
    "with open(fp+\"a1/0100.a1.txt\", encoding=\"latin-1\") as f:\n",
    "    text = f.read()\n",
    "\n",
    "#convert it with spacy\n",
    "\n",
    "text_nlp = nlp(text)\n",
    "\n",
    "# extract values, I have to use \"i\" to  index items, long words confuse me\n",
    "\n",
    "for i in text_nlp:\n",
    "    print(i.text, i.pos)"
   ]
  },
  {
   "cell_type": "code",
   "execution_count": null,
   "metadata": {},
   "outputs": [],
   "source": []
  }
 ],
 "metadata": {
  "kernelspec": {
   "display_name": "Python 3",
   "language": "python",
   "name": "python3"
  },
  "language_info": {
   "codemirror_mode": {
    "name": "ipython",
    "version": 3
   },
   "file_extension": ".py",
   "mimetype": "text/x-python",
   "name": "python",
   "nbconvert_exporter": "python",
   "pygments_lexer": "ipython3",
   "version": "3.10.12"
  }
 },
 "nbformat": 4,
 "nbformat_minor": 2
}
