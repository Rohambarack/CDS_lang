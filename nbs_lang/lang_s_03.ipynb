{
 "cells": [
  {
   "cell_type": "code",
   "execution_count": 2,
   "metadata": {},
   "outputs": [],
   "source": [
    "# Session 3 SpaCY\n",
    "# python -m spacy download en_core_web_md\n",
    "import spacy"
   ]
  },
  {
   "cell_type": "code",
   "execution_count": 5,
   "metadata": {},
   "outputs": [],
   "source": [
    "nlp = spacy.load('en_core_web_md')"
   ]
  },
  {
   "cell_type": "code",
   "execution_count": 22,
   "metadata": {},
   "outputs": [],
   "source": [
    "#sample_sentence\n",
    "text = \"My name is Ross and I don't remember the rest, something about Aarhus or Aarhus University\"\n",
    "#spacy doc\n",
    "doc = nlp(text)"
   ]
  },
  {
   "cell_type": "code",
   "execution_count": 12,
   "metadata": {},
   "outputs": [
    {
     "data": {
      "text/plain": [
       "My name is Ross and I don't remember the rest, something about Aarhus or Aarhus university"
      ]
     },
     "execution_count": 12,
     "metadata": {},
     "output_type": "execute_result"
    }
   ],
   "source": [
    "doc"
   ]
  },
  {
   "cell_type": "code",
   "execution_count": 23,
   "metadata": {},
   "outputs": [
    {
     "name": "stdout",
     "output_type": "stream",
     "text": [
      "My\n",
      "name\n",
      "is\n",
      "Ross\n",
      "and\n",
      "I\n",
      "do\n",
      "n't\n",
      "remember\n",
      "the\n",
      "rest\n",
      ",\n",
      "something\n",
      "about\n",
      "Aarhus\n",
      "or\n",
      "Aarhus\n",
      "University\n"
     ]
    }
   ],
   "source": [
    "for i in doc:\n",
    "    print(i.text)"
   ]
  },
  {
   "cell_type": "code",
   "execution_count": 24,
   "metadata": {},
   "outputs": [
    {
     "name": "stdout",
     "output_type": "stream",
     "text": [
      "0 My PRON poss Number=Sing|Person=1|Poss=Yes|PronType=Prs\n",
      "1 name NOUN nsubj Number=Sing\n",
      "2 is AUX ROOT Mood=Ind|Number=Sing|Person=3|Tense=Pres|VerbForm=Fin\n",
      "3 Ross PROPN attr Number=Sing\n",
      "4 and CCONJ cc ConjType=Cmp\n",
      "5 I PRON nsubj Case=Nom|Number=Sing|Person=1|PronType=Prs\n",
      "6 do AUX aux Mood=Ind|Tense=Pres|VerbForm=Fin\n",
      "7 n't PART neg Polarity=Neg\n",
      "8 remember VERB conj VerbForm=Inf\n",
      "9 the DET det Definite=Def|PronType=Art\n",
      "10 rest NOUN dobj Number=Sing\n",
      "11 , PUNCT punct PunctType=Comm\n",
      "12 something PRON appos Number=Sing|PronType=Ind\n",
      "13 about ADP prep \n",
      "14 Aarhus PROPN pobj Number=Sing\n",
      "15 or CCONJ cc ConjType=Cmp\n",
      "16 Aarhus PROPN compound Number=Sing\n",
      "17 University PROPN conj Number=Sing\n"
     ]
    }
   ],
   "source": [
    "for i in doc:\n",
    "    print(i.i, i.text, i.pos_, i.dep_, i.morph)"
   ]
  },
  {
   "cell_type": "code",
   "execution_count": 25,
   "metadata": {},
   "outputs": [
    {
     "name": "stdout",
     "output_type": "stream",
     "text": [
      "Ross PERSON\n",
      "Aarhus GPE\n",
      "Aarhus University ORG\n"
     ]
    }
   ],
   "source": [
    "# NER\n",
    "for i in doc.ents:\n",
    "    print(i.text, i.label_)"
   ]
  },
  {
   "cell_type": "code",
   "execution_count": 26,
   "metadata": {},
   "outputs": [
    {
     "name": "stderr",
     "output_type": "stream",
     "text": [
      "/tmp/ipykernel_4009/2449118868.py:2: DeprecationWarning: \n",
      "Pyarrow will become a required dependency of pandas in the next major release of pandas (pandas 3.0),\n",
      "(to allow more performant data types, such as the Arrow string type, and better interoperability with other libraries)\n",
      "but was not found to be installed on your system.\n",
      "If this would cause problems for you,\n",
      "please provide us feedback at https://github.com/pandas-dev/pandas/issues/54466\n",
      "        \n",
      "  import pandas as pd\n"
     ]
    }
   ],
   "source": [
    "#intro to pandas\n",
    "import pandas as pd"
   ]
  },
  {
   "cell_type": "code",
   "execution_count": 30,
   "metadata": {},
   "outputs": [],
   "source": [
    "#empty list\n",
    "\n",
    "annotations = []\n",
    "for i in doc:\n",
    "    annotations.append([i.text, i.pos_, i.dep_])"
   ]
  },
  {
   "cell_type": "code",
   "execution_count": 34,
   "metadata": {},
   "outputs": [],
   "source": [
    "\n",
    "df = pd.DataFrame(annotations,columns=[\"text\",\"pos\",\"dep\"])"
   ]
  },
  {
   "cell_type": "code",
   "execution_count": 48,
   "metadata": {},
   "outputs": [
    {
     "data": {
      "text/plain": [
       "pos\n",
       "PROPN    4\n",
       "PRON     3\n",
       "NOUN     2\n",
       "AUX      2\n",
       "CCONJ    2\n",
       "PART     1\n",
       "VERB     1\n",
       "DET      1\n",
       "PUNCT    1\n",
       "ADP      1\n",
       "Name: count, dtype: int64"
      ]
     },
     "execution_count": 48,
     "metadata": {},
     "output_type": "execute_result"
    }
   ],
   "source": [
    "df[\"pos\"].value_counts()"
   ]
  },
  {
   "cell_type": "code",
   "execution_count": 49,
   "metadata": {},
   "outputs": [],
   "source": [
    "df.to_csv(\"../lan_putput/test.csv\")"
   ]
  },
  {
   "cell_type": "code",
   "execution_count": null,
   "metadata": {},
   "outputs": [],
   "source": [
    "input_df = pd.read_csv(\"../lan_putput/test.csv\")"
   ]
  }
 ],
 "metadata": {
  "kernelspec": {
   "display_name": "Python 3",
   "language": "python",
   "name": "python3"
  },
  "language_info": {
   "codemirror_mode": {
    "name": "ipython",
    "version": 3
   },
   "file_extension": ".py",
   "mimetype": "text/x-python",
   "name": "python",
   "nbconvert_exporter": "python",
   "pygments_lexer": "ipython3",
   "version": "3.10.12"
  }
 },
 "nbformat": 4,
 "nbformat_minor": 2
}
