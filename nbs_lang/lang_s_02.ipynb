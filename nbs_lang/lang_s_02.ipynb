{
 "cells": [
  {
   "cell_type": "markdown",
   "metadata": {},
   "source": [
    "# Control Flow\n"
   ]
  },
  {
   "cell_type": "code",
   "execution_count": 3,
   "metadata": {},
   "outputs": [],
   "source": [
    "colours = [\"red\",\"blue\",\"green\"]"
   ]
  },
  {
   "cell_type": "code",
   "execution_count": 4,
   "metadata": {},
   "outputs": [
    {
     "name": "stdout",
     "output_type": "stream",
     "text": [
      "red\n",
      "blue\n",
      "green\n"
     ]
    }
   ],
   "source": [
    "for i in colours:\n",
    "    print(i)\n"
   ]
  },
  {
   "cell_type": "code",
   "execution_count": 9,
   "metadata": {},
   "outputs": [
    {
     "name": "stdout",
     "output_type": "stream",
     "text": [
      "RED!!\n",
      "BLUE!!\n",
      "GREEN!!\n"
     ]
    }
   ],
   "source": [
    "for i in colours:\n",
    "    print(i.upper()+\"!!\")"
   ]
  },
  {
   "cell_type": "code",
   "execution_count": 17,
   "metadata": {},
   "outputs": [
    {
     "name": "stdout",
     "output_type": "stream",
     "text": [
      "RED!!\n",
      "BLUE!!\n",
      "GREEN!!\n"
     ]
    }
   ],
   "source": [
    "###exclamation pint-- great name for a pub\n",
    "sh_col = []\n",
    "for i in colours:\n",
    "    fos = colours.index(i)\n",
    "    sh_col.append(i.upper()+\"!!\")\n",
    "    print(sh_col[fos])\n"
   ]
  },
  {
   "cell_type": "code",
   "execution_count": 28,
   "metadata": {},
   "outputs": [
    {
     "name": "stdout",
     "output_type": "stream",
     "text": [
      "RED!!\n",
      "BLUE\n",
      "green\n"
     ]
    }
   ],
   "source": [
    "for i in colours:\n",
    "    if i == \"green\":\n",
    "        print(i)\n",
    "    elif i ==\"red\":\n",
    "        print(i.upper()+\"!!\")\n",
    "    else:\n",
    "        print(i.upper())\n"
   ]
  },
  {
   "cell_type": "code",
   "execution_count": 34,
   "metadata": {},
   "outputs": [
    {
     "name": "stdout",
     "output_type": "stream",
     "text": [
      "5.0\n",
      "aaaa\n"
     ]
    }
   ],
   "source": [
    "w_lis = [\"red\",\"green\", 10, \"blue\"]\n",
    "\n",
    "for i in w_lis:\n",
    "    if type(i) == int:\n",
    "\n",
    "        print(i/2)\n",
    "    elif i == \"blue\":\n",
    "        print(\"aaaa\")\n",
    "    else:\n",
    "        pass"
   ]
  },
  {
   "cell_type": "markdown",
   "metadata": {},
   "source": [
    "# Exception handling\n"
   ]
  },
  {
   "cell_type": "code",
   "execution_count": 35,
   "metadata": {},
   "outputs": [
    {
     "name": "stdout",
     "output_type": "stream",
     "text": [
      "red is not a number\n",
      "green is not a number\n",
      "5.0\n",
      "blue is not a number\n"
     ]
    }
   ],
   "source": [
    "for i in w_lis:\n",
    "    try:\n",
    "        print(i/2)\n",
    "    except:\n",
    "        print(i + \" is not a number\")"
   ]
  },
  {
   "cell_type": "markdown",
   "metadata": {},
   "source": [
    "# Working with text data 2 judgement day"
   ]
  },
  {
   "cell_type": "code",
   "execution_count": 41,
   "metadata": {},
   "outputs": [
    {
     "name": "stdout",
     "output_type": "stream",
     "text": [
      "/work/cds-lang-data/100_novels/corpus/Dickens_Expectations_1861.txt\n"
     ]
    }
   ],
   "source": [
    "import os\n",
    "#the pompous one\n",
    "fp = os.path.join(\"/work\",\"cds-lang-data\",\"100_novels\",\"corpus\",\"Dickens_Expectations_1861.txt\")\n",
    "print(fp)\n",
    "#the one that works\n",
    "filepath = \"/work/cds-lang-data/100_novels/corpus/Dickens_Expectations_1861.txt\""
   ]
  },
  {
   "cell_type": "code",
   "execution_count": 48,
   "metadata": {},
   "outputs": [],
   "source": [
    "with open(filepath) as f:\n",
    "    text = f.read()"
   ]
  },
  {
   "cell_type": "code",
   "execution_count": 47,
   "metadata": {},
   "outputs": [],
   "source": [
    "#dumb way, don´t do it unless you´`r a dummy dum dum\n",
    "text = open(filepath).read()\n"
   ]
  },
  {
   "cell_type": "code",
   "execution_count": 51,
   "metadata": {},
   "outputs": [
    {
     "data": {
      "text/plain": [
       "991613"
      ]
     },
     "execution_count": 51,
     "metadata": {},
     "output_type": "execute_result"
    }
   ],
   "source": [
    "len(text)"
   ]
  },
  {
   "cell_type": "markdown",
   "metadata": {},
   "source": [
    "# Document length"
   ]
  },
  {
   "cell_type": "code",
   "execution_count": 56,
   "metadata": {},
   "outputs": [],
   "source": [
    "tokens = text.lower().split() #default for split is is whitespace"
   ]
  },
  {
   "cell_type": "code",
   "execution_count": 57,
   "metadata": {},
   "outputs": [
    {
     "data": {
      "text/plain": [
       "46"
      ]
     },
     "execution_count": 57,
     "metadata": {},
     "output_type": "execute_result"
    }
   ],
   "source": [
    "### counting word frequencies\n",
    "keyword = \"love\"\n",
    "\n",
    "tokens.count(keyword)"
   ]
  },
  {
   "cell_type": "code",
   "execution_count": 58,
   "metadata": {},
   "outputs": [],
   "source": [
    "import string"
   ]
  },
  {
   "cell_type": "code",
   "execution_count": 59,
   "metadata": {},
   "outputs": [
    {
     "data": {
      "text/plain": [
       "'!\"#$%&\\'()*+,-./:;<=>?@[\\\\]^_`{|}~'"
      ]
     },
     "execution_count": 59,
     "metadata": {},
     "output_type": "execute_result"
    }
   ],
   "source": [
    "string.punctuation"
   ]
  },
  {
   "cell_type": "code",
   "execution_count": 60,
   "metadata": {},
   "outputs": [],
   "source": [
    "#pythonic\n",
    "c_tokens = [''.join(char for char in i if char not in string.punctuation) for i in tokens]\n",
    "\n",
    "#HW find a smaerter solution"
   ]
  },
  {
   "cell_type": "code",
   "execution_count": null,
   "metadata": {},
   "outputs": [],
   "source": []
  }
 ],
 "metadata": {
  "kernelspec": {
   "display_name": "Python 3",
   "language": "python",
   "name": "python3"
  },
  "language_info": {
   "codemirror_mode": {
    "name": "ipython",
    "version": 3
   },
   "file_extension": ".py",
   "mimetype": "text/x-python",
   "name": "python",
   "nbconvert_exporter": "python",
   "pygments_lexer": "ipython3",
   "version": "3.10.12"
  }
 },
 "nbformat": 4,
 "nbformat_minor": 2
}
