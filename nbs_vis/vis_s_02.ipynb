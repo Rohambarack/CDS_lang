{
 "cells": [
  {
   "cell_type": "code",
   "execution_count": 11,
   "metadata": {},
   "outputs": [
    {
     "name": "stdout",
     "output_type": "stream",
     "text": [
      "hello Jens\n",
      "You dummy dum dum, it has to be a string\n",
      "hello world\n"
     ]
    }
   ],
   "source": [
    "#Defining functioons\n",
    "\n",
    "#hello functioon\n",
    "Jens = 1\n",
    "def hello(name_string= \"world\"): ##definition syntax, woth default argument\n",
    "    \"\"\"\n",
    "    This function takes a string and says hello to it.\n",
    "    Default is world\n",
    "    gives a message if input i not a string\n",
    "\n",
    "    \"\"\"\n",
    "    #documentiation for the use of the function\n",
    "    try:    #exception stuff cos it seems  useful, but haven´t used it much before\n",
    "        print(\"hello \" + name_string)\n",
    "    except:\n",
    "        print(\"You dummy dum dum, it has to be a string\")\n",
    "hello(\"Jens\")\n",
    "hello(Jens)\n",
    "hello()"
   ]
  },
  {
   "cell_type": "markdown",
   "metadata": {},
   "source": [
    "## Exercises \n",
    "https://github.com/CHCAA-EDUX/Programming-for-the-Humanities-E23/blob/main/exercises/lesson-01-exercises.md"
   ]
  },
  {
   "cell_type": "code",
   "execution_count": null,
   "metadata": {},
   "outputs": [],
   "source": []
  },
  {
   "cell_type": "code",
   "execution_count": 6,
   "metadata": {},
   "outputs": [
    {
     "name": "stdout",
     "output_type": "stream",
     "text": [
      "hello Jens how old are you?\n",
      "Wow you're 20 years old\n"
     ]
    }
   ],
   "source": [
    "def hello_2(name):\n",
    "    print(\"hello \" + name + \" how old are you?\")\n",
    "    age = input()\n",
    "    print(\"Wow you're \" + str(age) + \" years old\")\n",
    "\n",
    "hello_2(\"Jens\")"
   ]
  },
  {
   "cell_type": "code",
   "execution_count": 3,
   "metadata": {},
   "outputs": [
    {
     "data": {
      "text/plain": [
       "2"
      ]
     },
     "execution_count": 3,
     "metadata": {},
     "output_type": "execute_result"
    }
   ],
   "source": [
    "def vow_count(vowful_str):\n",
    "    vows = [\"a\",\"á\",\"e\",\"é\",\"i\",\"í\",\"o\",\"ó\",\"ö\",\"ő\",\"u\",\"ú\",\"ü\",\"ű\",\"æ\",\"ø\",\"å\"]\n",
    "\n",
    "    proc_str = vowful_str.lower()\n",
    "    count = 0\n",
    "\n",
    "    for i in proc_str:\n",
    "        if i in vows:\n",
    "            count = count + 1\n",
    "        else:\n",
    "            pass\n",
    "    \n",
    "    return(count)\n",
    "\n",
    "vow_count(\"alma\")"
   ]
  },
  {
   "cell_type": "code",
   "execution_count": null,
   "metadata": {},
   "outputs": [],
   "source": [
    "def vow_count(vowful_str): ##liscomprehension??\n",
    "    vows = [\"a\",\"á\",\"e\",\"é\",\"i\",\"í\",\"o\",\"ó\",\"ö\",\"ő\",\"u\",\"ú\",\"ü\",\"ű\",\"æ\",\"ø\",\"å\"]\n",
    "\n",
    "    proc_str = vowful_str.lower()\n",
    "    count = 0\n",
    "\n",
    "    for i in proc_str:\n",
    "        if i in vows:\n",
    "            count = count + 1\n",
    "        else:\n",
    "            pass\n",
    "    \n",
    "    return(count)\n",
    "\n",
    "vow_count(\"alma\")"
   ]
  }
 ],
 "metadata": {
  "kernelspec": {
   "display_name": "Python 3",
   "language": "python",
   "name": "python3"
  },
  "language_info": {
   "codemirror_mode": {
    "name": "ipython",
    "version": 3
   },
   "file_extension": ".py",
   "mimetype": "text/x-python",
   "name": "python",
   "nbconvert_exporter": "python",
   "pygments_lexer": "ipython3",
   "version": "3.10.12"
  }
 },
 "nbformat": 4,
 "nbformat_minor": 2
}
