{
 "cells": [
  {
   "cell_type": "code",
   "execution_count": 11,
   "metadata": {},
   "outputs": [
    {
     "name": "stdout",
     "output_type": "stream",
     "text": [
      "hello Jens\n",
      "You dummy dum dum, it has to be a string\n",
      "hello world\n"
     ]
    }
   ],
   "source": [
    "#Defining functioons\n",
    "\n",
    "#hello functioon\n",
    "Jens = 1\n",
    "def hello(name_string= \"world\"): ##definition syntax, woth default argument\n",
    "    \"\"\"\n",
    "    This function takes a string and says hello to it.\n",
    "    Default is world\n",
    "    gives a message if input i not a string\n",
    "\n",
    "    \"\"\"\n",
    "    #documentiation for the use of the function\n",
    "    try:    #exception stuff cos it seems  useful, but haven´t used it much before\n",
    "        print(\"hello \" + name_string)\n",
    "    except:\n",
    "        print(\"You dummy dum dum, it has to be a string\")\n",
    "hello(\"Jens\")\n",
    "hello(Jens)\n",
    "hello()"
   ]
  },
  {
   "cell_type": "code",
   "execution_count": 12,
   "metadata": {},
   "outputs": [
    {
     "name": "stdout",
     "output_type": "stream",
     "text": [
      "hello world\n",
      "Help on NoneType object:\n",
      "\n",
      "class NoneType(object)\n",
      " |  Methods defined here:\n",
      " |  \n",
      " |  __bool__(self, /)\n",
      " |      True if self else False\n",
      " |  \n",
      " |  __repr__(self, /)\n",
      " |      Return repr(self).\n",
      " |  \n",
      " |  ----------------------------------------------------------------------\n",
      " |  Static methods defined here:\n",
      " |  \n",
      " |  __new__(*args, **kwargs) from builtins.type\n",
      " |      Create and return a new object.  See help(type) for accurate signature.\n",
      "\n"
     ]
    }
   ],
   "source": []
  },
  {
   "cell_type": "code",
   "execution_count": null,
   "metadata": {},
   "outputs": [],
   "source": []
  }
 ],
 "metadata": {
  "kernelspec": {
   "display_name": "Python 3",
   "language": "python",
   "name": "python3"
  },
  "language_info": {
   "codemirror_mode": {
    "name": "ipython",
    "version": 3
   },
   "file_extension": ".py",
   "mimetype": "text/x-python",
   "name": "python",
   "nbconvert_exporter": "python",
   "pygments_lexer": "ipython3",
   "version": "3.10.12"
  }
 },
 "nbformat": 4,
 "nbformat_minor": 2
}
